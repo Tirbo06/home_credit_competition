{
 "cells": [
  {
   "cell_type": "markdown",
   "metadata": {},
   "source": [
    "## 10.0 Stratified Dataset\n",
    "> - The training dataset is highly unbalance where default class makes up around 8% of the total.  To combat this unbalance I decided to use [under-sampling](https://machinelearningmastery.com/tactics-to-combat-imbalanced-classes-in-your-machine-learning-dataset/) so that the target class (0-non-defaults and 1-defaults) can be represented more equally.\n",
    "> - I decided to use under-sampling versus over-sampling because I have a large dataset.\n",
    "> - To perform the under-sampling I use sklearn's [StratifiedShuffleSplit](https://scikit-learn.org/stable/modules/generated/sklearn.model_selection.StratifiedShuffleSplit.html). \n",
    "> - The `AMT_ANNUITY` field was used to create a category field that served as the stratifying class."
   ]
  },
  {
   "cell_type": "code",
   "execution_count": 13,
   "metadata": {},
   "outputs": [
    {
     "name": "stdout",
     "output_type": "stream",
     "text": [
      "The autoreload extension is already loaded. To reload it, use:\n",
      "  %reload_ext autoreload\n"
     ]
    }
   ],
   "source": [
    "#import helper ultility module\n",
    "%load_ext autoreload\n",
    "%aimport utils\n",
    "%autoreload 1"
   ]
  },
  {
   "cell_type": "code",
   "execution_count": 14,
   "metadata": {},
   "outputs": [],
   "source": [
    "import pandas as pd\n",
    "pd.options.display.float_format = '{:,.2f}'.format\n",
    "pd.set_option('display.max_rows', 100)\n",
    "\n",
    "import numpy as np\n",
    "from sklearn.model_selection import StratifiedShuffleSplit\n",
    "from sklearn.preprocessing import StandardScaler\n",
    "from sklearn.preprocessing import MinMaxScaler\n",
    "import matplotlib.pyplot as plt\n",
    "%matplotlib inline"
   ]
  },
  {
   "cell_type": "markdown",
   "metadata": {},
   "source": [
    "## 10.1 Import Combined Dataset\n",
    "> - The combined dataset contains all the pre-processed datasets.\n",
    "> - In order to stratified I created a category field from the `AMT_ANNUITY` field to serve as the percentage sampling class.\n",
    "I chose the `AMT_ANNUITY` field because its normaly distributed."
   ]
  },
  {
   "cell_type": "code",
   "execution_count": 15,
   "metadata": {},
   "outputs": [],
   "source": [
    "dataset = utils.get_combined_dataset()"
   ]
  },
  {
   "cell_type": "code",
   "execution_count": 16,
   "metadata": {},
   "outputs": [
    {
     "data": {
      "text/html": [
       "<div>\n",
       "<style scoped>\n",
       "    .dataframe tbody tr th:only-of-type {\n",
       "        vertical-align: middle;\n",
       "    }\n",
       "\n",
       "    .dataframe tbody tr th {\n",
       "        vertical-align: top;\n",
       "    }\n",
       "\n",
       "    .dataframe thead th {\n",
       "        text-align: right;\n",
       "    }\n",
       "</style>\n",
       "<table border=\"1\" class=\"dataframe\">\n",
       "  <thead>\n",
       "    <tr style=\"text-align: right;\">\n",
       "      <th></th>\n",
       "      <th>SK_ID_CURR</th>\n",
       "      <th>TARGET</th>\n",
       "      <th>DATASET</th>\n",
       "      <th>AMT_INCOME_TOTAL</th>\n",
       "      <th>AMT_CREDIT</th>\n",
       "      <th>AMT_ANNUITY</th>\n",
       "      <th>REGION_POPULATION_RELATIVE</th>\n",
       "      <th>DAYS_BIRTH</th>\n",
       "      <th>DAYS_EMPLOYED</th>\n",
       "      <th>DAYS_REGISTRATION</th>\n",
       "      <th>...</th>\n",
       "      <th>CC_CNT_INSTALMENT_MATURE_CUM_MEAN</th>\n",
       "      <th>CC_CNT_INSTALMENT_MATURE_CUM_STD</th>\n",
       "      <th>CC_SK_DPD_MIN</th>\n",
       "      <th>CC_SK_DPD_MAX</th>\n",
       "      <th>CC_SK_DPD_MEAN</th>\n",
       "      <th>CC_SK_DPD_STD</th>\n",
       "      <th>CC_SK_DPD_DEF_MIN</th>\n",
       "      <th>CC_SK_DPD_DEF_MAX</th>\n",
       "      <th>CC_SK_DPD_DEF_MEAN</th>\n",
       "      <th>CC_SK_DPD_DEF_STD</th>\n",
       "    </tr>\n",
       "  </thead>\n",
       "  <tbody>\n",
       "    <tr>\n",
       "      <th>0</th>\n",
       "      <td>100002</td>\n",
       "      <td>1.00</td>\n",
       "      <td>train</td>\n",
       "      <td>12.22</td>\n",
       "      <td>12.92</td>\n",
       "      <td>10.11</td>\n",
       "      <td>0.02</td>\n",
       "      <td>-9,461.00</td>\n",
       "      <td>-637.00</td>\n",
       "      <td>114.13</td>\n",
       "      <td>...</td>\n",
       "      <td>0.00</td>\n",
       "      <td>0.00</td>\n",
       "      <td>0.00</td>\n",
       "      <td>0.00</td>\n",
       "      <td>0.00</td>\n",
       "      <td>0.00</td>\n",
       "      <td>0.00</td>\n",
       "      <td>0.00</td>\n",
       "      <td>0.00</td>\n",
       "      <td>0.00</td>\n",
       "    </tr>\n",
       "    <tr>\n",
       "      <th>1</th>\n",
       "      <td>100003</td>\n",
       "      <td>0.00</td>\n",
       "      <td>train</td>\n",
       "      <td>12.51</td>\n",
       "      <td>14.07</td>\n",
       "      <td>10.48</td>\n",
       "      <td>0.00</td>\n",
       "      <td>-16,765.00</td>\n",
       "      <td>-1,188.00</td>\n",
       "      <td>64.68</td>\n",
       "      <td>...</td>\n",
       "      <td>0.00</td>\n",
       "      <td>0.00</td>\n",
       "      <td>0.00</td>\n",
       "      <td>0.00</td>\n",
       "      <td>0.00</td>\n",
       "      <td>0.00</td>\n",
       "      <td>0.00</td>\n",
       "      <td>0.00</td>\n",
       "      <td>0.00</td>\n",
       "      <td>0.00</td>\n",
       "    </tr>\n",
       "    <tr>\n",
       "      <th>2</th>\n",
       "      <td>100004</td>\n",
       "      <td>0.00</td>\n",
       "      <td>train</td>\n",
       "      <td>11.12</td>\n",
       "      <td>11.81</td>\n",
       "      <td>8.82</td>\n",
       "      <td>0.01</td>\n",
       "      <td>-19,046.00</td>\n",
       "      <td>-225.00</td>\n",
       "      <td>123.37</td>\n",
       "      <td>...</td>\n",
       "      <td>0.00</td>\n",
       "      <td>0.00</td>\n",
       "      <td>0.00</td>\n",
       "      <td>0.00</td>\n",
       "      <td>0.00</td>\n",
       "      <td>0.00</td>\n",
       "      <td>0.00</td>\n",
       "      <td>0.00</td>\n",
       "      <td>0.00</td>\n",
       "      <td>0.00</td>\n",
       "    </tr>\n",
       "    <tr>\n",
       "      <th>3</th>\n",
       "      <td>100006</td>\n",
       "      <td>0.00</td>\n",
       "      <td>train</td>\n",
       "      <td>11.81</td>\n",
       "      <td>12.65</td>\n",
       "      <td>10.30</td>\n",
       "      <td>0.01</td>\n",
       "      <td>-19,005.00</td>\n",
       "      <td>-3,039.00</td>\n",
       "      <td>187.48</td>\n",
       "      <td>...</td>\n",
       "      <td>0.00</td>\n",
       "      <td>0.00</td>\n",
       "      <td>0.00</td>\n",
       "      <td>0.00</td>\n",
       "      <td>0.00</td>\n",
       "      <td>0.00</td>\n",
       "      <td>0.00</td>\n",
       "      <td>0.00</td>\n",
       "      <td>0.00</td>\n",
       "      <td>0.00</td>\n",
       "    </tr>\n",
       "    <tr>\n",
       "      <th>4</th>\n",
       "      <td>100007</td>\n",
       "      <td>0.00</td>\n",
       "      <td>train</td>\n",
       "      <td>11.71</td>\n",
       "      <td>13.15</td>\n",
       "      <td>9.99</td>\n",
       "      <td>0.03</td>\n",
       "      <td>-19,932.00</td>\n",
       "      <td>-3,038.00</td>\n",
       "      <td>124.11</td>\n",
       "      <td>...</td>\n",
       "      <td>0.00</td>\n",
       "      <td>0.00</td>\n",
       "      <td>0.00</td>\n",
       "      <td>0.00</td>\n",
       "      <td>0.00</td>\n",
       "      <td>0.00</td>\n",
       "      <td>0.00</td>\n",
       "      <td>0.00</td>\n",
       "      <td>0.00</td>\n",
       "      <td>0.00</td>\n",
       "    </tr>\n",
       "  </tbody>\n",
       "</table>\n",
       "<p>5 rows × 236 columns</p>\n",
       "</div>"
      ],
      "text/plain": [
       "   SK_ID_CURR  TARGET DATASET  AMT_INCOME_TOTAL  AMT_CREDIT  AMT_ANNUITY  \\\n",
       "0      100002    1.00   train             12.22       12.92        10.11   \n",
       "1      100003    0.00   train             12.51       14.07        10.48   \n",
       "2      100004    0.00   train             11.12       11.81         8.82   \n",
       "3      100006    0.00   train             11.81       12.65        10.30   \n",
       "4      100007    0.00   train             11.71       13.15         9.99   \n",
       "\n",
       "   REGION_POPULATION_RELATIVE  DAYS_BIRTH  DAYS_EMPLOYED  DAYS_REGISTRATION  \\\n",
       "0                        0.02   -9,461.00        -637.00             114.13   \n",
       "1                        0.00  -16,765.00      -1,188.00              64.68   \n",
       "2                        0.01  -19,046.00        -225.00             123.37   \n",
       "3                        0.01  -19,005.00      -3,039.00             187.48   \n",
       "4                        0.03  -19,932.00      -3,038.00             124.11   \n",
       "\n",
       "   ...  CC_CNT_INSTALMENT_MATURE_CUM_MEAN  CC_CNT_INSTALMENT_MATURE_CUM_STD  \\\n",
       "0  ...                               0.00                              0.00   \n",
       "1  ...                               0.00                              0.00   \n",
       "2  ...                               0.00                              0.00   \n",
       "3  ...                               0.00                              0.00   \n",
       "4  ...                               0.00                              0.00   \n",
       "\n",
       "   CC_SK_DPD_MIN  CC_SK_DPD_MAX  CC_SK_DPD_MEAN  CC_SK_DPD_STD  \\\n",
       "0           0.00           0.00            0.00           0.00   \n",
       "1           0.00           0.00            0.00           0.00   \n",
       "2           0.00           0.00            0.00           0.00   \n",
       "3           0.00           0.00            0.00           0.00   \n",
       "4           0.00           0.00            0.00           0.00   \n",
       "\n",
       "   CC_SK_DPD_DEF_MIN  CC_SK_DPD_DEF_MAX  CC_SK_DPD_DEF_MEAN  CC_SK_DPD_DEF_STD  \n",
       "0               0.00               0.00                0.00               0.00  \n",
       "1               0.00               0.00                0.00               0.00  \n",
       "2               0.00               0.00                0.00               0.00  \n",
       "3               0.00               0.00                0.00               0.00  \n",
       "4               0.00               0.00                0.00               0.00  \n",
       "\n",
       "[5 rows x 236 columns]"
      ]
     },
     "execution_count": 16,
     "metadata": {},
     "output_type": "execute_result"
    }
   ],
   "source": [
    "dataset.head()"
   ]
  },
  {
   "cell_type": "code",
   "execution_count": 17,
   "metadata": {
    "scrolled": false
   },
   "outputs": [
    {
     "name": "stdout",
     "output_type": "stream",
     "text": [
      "<class 'pandas.core.frame.DataFrame'>\n",
      "RangeIndex: 344971 entries, 0 to 344970\n",
      "Columns: 236 entries, SK_ID_CURR to CC_SK_DPD_DEF_STD\n",
      "dtypes: float64(212), int64(15), object(9)\n",
      "memory usage: 621.1+ MB\n"
     ]
    }
   ],
   "source": [
    "dataset.info()"
   ]
  },
  {
   "cell_type": "code",
   "execution_count": 18,
   "metadata": {},
   "outputs": [
    {
     "data": {
      "image/png": "[encoded data removed]",
      "text/plain": [
       "<Figure size 432x288 with 1 Axes>"
      ]
     },
     "metadata": {
      "needs_background": "light"
     },
     "output_type": "display_data"
    }
   ],
   "source": [
    "#create stratifying field\n",
    "strat_field = 'AMT_INCOME_TOTAL'\n",
    "\n",
    "#show its distribution\n",
    "dataset[strat_field].hist()\n",
    "plt.show()"
   ]
  },
  {
   "cell_type": "code",
   "execution_count": 19,
   "metadata": {},
   "outputs": [
    {
     "data": {
      "text/plain": [
       "10        84\n",
       "11     65672\n",
       "12    239591\n",
       "13     39518\n",
       "14       106\n",
       "Name: AMT_INCOME_TOTAL_GROUP, dtype: int64"
      ]
     },
     "execution_count": 19,
     "metadata": {},
     "output_type": "execute_result"
    }
   ],
   "source": [
    "\n",
    "strat_column = strat_field + \"_GROUP\"\n",
    "\n",
    "dataset[strat_column] = dataset[strat_field].apply(lambda x:int(  round(x)))\n",
    "dataset[strat_column] = dataset[strat_column].apply(lambda x: 14 if x==15 else x)\n",
    "dataset[strat_column].value_counts().sort_index()"
   ]
  },
  {
   "cell_type": "code",
   "execution_count": 20,
   "metadata": {},
   "outputs": [],
   "source": [
    "#lets filter only by training subset\n",
    "train_df = dataset[dataset['DATASET']=='train']\n",
    "\n",
    "#lets filter only by test subset\n",
    "test_df = dataset[dataset['DATASET']=='test']"
   ]
  },
  {
   "cell_type": "code",
   "execution_count": 21,
   "metadata": {},
   "outputs": [],
   "source": [
    "#def fun summarize the percentages of 1 and 0 target values.\n",
    "def target_percent(df):\n",
    "    percent_df =  df.groupby('TARGET').size().to_frame()\n",
    "    percent_df.columns = ['Count'] \n",
    "    percent_df['Percent'] = percent_df['Count'].apply(lambda x : round(100*float(x) / len(df), 2))\n",
    "    return percent_df"
   ]
  },
  {
   "cell_type": "code",
   "execution_count": 22,
   "metadata": {},
   "outputs": [
    {
     "data": {
      "text/html": [
       "<div>\n",
       "<style scoped>\n",
       "    .dataframe tbody tr th:only-of-type {\n",
       "        vertical-align: middle;\n",
       "    }\n",
       "\n",
       "    .dataframe tbody tr th {\n",
       "        vertical-align: top;\n",
       "    }\n",
       "\n",
       "    .dataframe thead th {\n",
       "        text-align: right;\n",
       "    }\n",
       "</style>\n",
       "<table border=\"1\" class=\"dataframe\">\n",
       "  <thead>\n",
       "    <tr style=\"text-align: right;\">\n",
       "      <th></th>\n",
       "      <th>Count</th>\n",
       "      <th>Percent</th>\n",
       "    </tr>\n",
       "    <tr>\n",
       "      <th>TARGET</th>\n",
       "      <th></th>\n",
       "      <th></th>\n",
       "    </tr>\n",
       "  </thead>\n",
       "  <tbody>\n",
       "    <tr>\n",
       "      <th>0.00</th>\n",
       "      <td>271937</td>\n",
       "      <td>91.80</td>\n",
       "    </tr>\n",
       "    <tr>\n",
       "      <th>1.00</th>\n",
       "      <td>24290</td>\n",
       "      <td>8.20</td>\n",
       "    </tr>\n",
       "  </tbody>\n",
       "</table>\n",
       "</div>"
      ],
      "text/plain": [
       "         Count  Percent\n",
       "TARGET                 \n",
       "0.00    271937    91.80\n",
       "1.00     24290     8.20"
      ]
     },
     "execution_count": 22,
     "metadata": {},
     "output_type": "execute_result"
    }
   ],
   "source": [
    "target_percent(train_df)"
   ]
  },
  {
   "cell_type": "markdown",
   "metadata": {},
   "source": [
    "## 10.2 Stratified Dataset"
   ]
  },
  {
   "cell_type": "code",
   "execution_count": 23,
   "metadata": {},
   "outputs": [],
   "source": [
    "def stratified_dataset(df,test_size):\n",
    "    \"\"\" Perform stratification and return test index\"\"\"\n",
    "    \n",
    "    # split between target value 1 and 0\n",
    "    non_defaults = df[df['TARGET']==0].copy().reset_index(drop=True)\n",
    "    defaults = df[df['TARGET']==1].copy().reset_index(drop=True)\n",
    "    \n",
    "    X = non_defaults.drop([strat_column], axis=1).values\n",
    "    y = non_defaults[strat_column].values\n",
    "    \n",
    "    sss = StratifiedShuffleSplit(n_splits=1, test_size=test_size, random_state=54)\n",
    "    splits = list(sss.split(X, y))\n",
    "    \n",
    "    new_df = non_defaults.iloc[splits[0][1]].copy()\n",
    "    new_df = new_df.append(defaults).reset_index(drop=True)\n",
    "    \n",
    "    return new_df"
   ]
  },
  {
   "cell_type": "code",
   "execution_count": 24,
   "metadata": {},
   "outputs": [],
   "source": [
    "#create new stratified dataset \n",
    "stratified_df =  stratified_dataset(train_df,0.09)"
   ]
  },
  {
   "cell_type": "code",
   "execution_count": 25,
   "metadata": {},
   "outputs": [
    {
     "data": {
      "text/html": [
       "<div>\n",
       "<style scoped>\n",
       "    .dataframe tbody tr th:only-of-type {\n",
       "        vertical-align: middle;\n",
       "    }\n",
       "\n",
       "    .dataframe tbody tr th {\n",
       "        vertical-align: top;\n",
       "    }\n",
       "\n",
       "    .dataframe thead th {\n",
       "        text-align: right;\n",
       "    }\n",
       "</style>\n",
       "<table border=\"1\" class=\"dataframe\">\n",
       "  <thead>\n",
       "    <tr style=\"text-align: right;\">\n",
       "      <th></th>\n",
       "      <th>Count</th>\n",
       "      <th>Percent</th>\n",
       "    </tr>\n",
       "    <tr>\n",
       "      <th>TARGET</th>\n",
       "      <th></th>\n",
       "      <th></th>\n",
       "    </tr>\n",
       "  </thead>\n",
       "  <tbody>\n",
       "    <tr>\n",
       "      <th>0.00</th>\n",
       "      <td>24475</td>\n",
       "      <td>50.19</td>\n",
       "    </tr>\n",
       "    <tr>\n",
       "      <th>1.00</th>\n",
       "      <td>24290</td>\n",
       "      <td>49.81</td>\n",
       "    </tr>\n",
       "  </tbody>\n",
       "</table>\n",
       "</div>"
      ],
      "text/plain": [
       "        Count  Percent\n",
       "TARGET                \n",
       "0.00    24475    50.19\n",
       "1.00    24290    49.81"
      ]
     },
     "execution_count": 25,
     "metadata": {},
     "output_type": "execute_result"
    }
   ],
   "source": [
    "target_percent(stratified_df)"
   ]
  },
  {
   "cell_type": "code",
   "execution_count": 26,
   "metadata": {},
   "outputs": [
    {
     "data": {
      "image/png": "[encoded data removed]",
      "text/plain": [
       "<Figure size 432x288 with 1 Axes>"
      ]
     },
     "metadata": {
      "needs_background": "light"
     },
     "output_type": "display_data"
    }
   ],
   "source": [
    "stratified_df[strat_field].hist()\n",
    "plt.show()"
   ]
  },
  {
   "cell_type": "markdown",
   "metadata": {},
   "source": [
    "### 10.3 Save Stratified Training and Testing Datasets\n",
    "> - Here we save the stratified training and testing datasets to file \n",
    "> - These two datasets have not been normalized or one-hot-encoded.\n",
    "> - To save stratified training datase we exclude the `DATASET` field before saving.\n",
    "> - To save test datase we exclude the `TARGET` and `DATASET` fields before saving."
   ]
  },
  {
   "cell_type": "code",
   "execution_count": 27,
   "metadata": {},
   "outputs": [
    {
     "name": "stdout",
     "output_type": "stream",
     "text": [
      "Stratified training dataset saved with row count of 48765.\n"
     ]
    }
   ],
   "source": [
    "stratified_df.drop(['DATASET',strat_column],axis=1).to_csv('data_stratified/train.csv',index=False)\n",
    "print(\"Stratified training dataset saved with row count of {}.\".format(len(stratified_df)))"
   ]
  },
  {
   "cell_type": "code",
   "execution_count": 28,
   "metadata": {},
   "outputs": [
    {
     "name": "stdout",
     "output_type": "stream",
     "text": [
      "Testing dataset saved with row count of 48744.\n"
     ]
    }
   ],
   "source": [
    "test_df.drop(['DATASET','TARGET',strat_column],axis=1).to_csv('data_stratified/test.csv',index=False)\n",
    "print(\"Testing dataset saved with row count of {}.\".format(len(test_df)))"
   ]
  },
  {
   "cell_type": "markdown",
   "metadata": {},
   "source": [
    "### 10.4 Save Normalized Training and Testing Datasets\n",
    "> - Here we save normalized or one-hot-encoded stratified training and testing datasets to file.\n",
    "\n",
    "> #### Normalize Steps:\n",
    "> - First we normalized the float features.\n",
    "> - Then we one-hot-encode all the integer and string features. \n",
    "> - For convenience and simplicity before one-hot-encoding the string features we convert all string features into integers value.  We convert each value in a string feature by assigning an integer to each unique string value.\n",
    "> - We use helper class called `NormData` to normalized the datasets.\n",
    "\n",
    "> #### Saving Steps:\n",
    "> - To save stratified training datase we exclude the `DATASET` fields before saving.\n",
    "> - To save test datase we exclude the `TARGET` and `DATASET` fields before saving."
   ]
  },
  {
   "cell_type": "code",
   "execution_count": 29,
   "metadata": {},
   "outputs": [
    {
     "data": {
      "text/html": [
       "<div>\n",
       "<style scoped>\n",
       "    .dataframe tbody tr th:only-of-type {\n",
       "        vertical-align: middle;\n",
       "    }\n",
       "\n",
       "    .dataframe tbody tr th {\n",
       "        vertical-align: top;\n",
       "    }\n",
       "\n",
       "    .dataframe thead th {\n",
       "        text-align: right;\n",
       "    }\n",
       "</style>\n",
       "<table border=\"1\" class=\"dataframe\">\n",
       "  <thead>\n",
       "    <tr style=\"text-align: right;\">\n",
       "      <th></th>\n",
       "      <th>SK_ID_CURR</th>\n",
       "      <th>TARGET</th>\n",
       "      <th>DATASET</th>\n",
       "      <th>AMT_INCOME_TOTAL</th>\n",
       "      <th>AMT_CREDIT</th>\n",
       "      <th>AMT_ANNUITY</th>\n",
       "      <th>REGION_POPULATION_RELATIVE</th>\n",
       "      <th>DAYS_BIRTH</th>\n",
       "      <th>DAYS_EMPLOYED</th>\n",
       "      <th>DAYS_REGISTRATION</th>\n",
       "      <th>...</th>\n",
       "      <th>CC_CNT_INSTALMENT_MATURE_CUM_STD</th>\n",
       "      <th>CC_SK_DPD_MIN</th>\n",
       "      <th>CC_SK_DPD_MAX</th>\n",
       "      <th>CC_SK_DPD_MEAN</th>\n",
       "      <th>CC_SK_DPD_STD</th>\n",
       "      <th>CC_SK_DPD_DEF_MIN</th>\n",
       "      <th>CC_SK_DPD_DEF_MAX</th>\n",
       "      <th>CC_SK_DPD_DEF_MEAN</th>\n",
       "      <th>CC_SK_DPD_DEF_STD</th>\n",
       "      <th>AMT_INCOME_TOTAL_GROUP</th>\n",
       "    </tr>\n",
       "  </thead>\n",
       "  <tbody>\n",
       "    <tr>\n",
       "      <th>0</th>\n",
       "      <td>121145</td>\n",
       "      <td>0.00</td>\n",
       "      <td>train</td>\n",
       "      <td>11.36</td>\n",
       "      <td>12.57</td>\n",
       "      <td>9.79</td>\n",
       "      <td>0.01</td>\n",
       "      <td>-22,859.00</td>\n",
       "      <td>0.00</td>\n",
       "      <td>217.28</td>\n",
       "      <td>...</td>\n",
       "      <td>0.00</td>\n",
       "      <td>0.00</td>\n",
       "      <td>0.00</td>\n",
       "      <td>0.00</td>\n",
       "      <td>0.00</td>\n",
       "      <td>0.00</td>\n",
       "      <td>0.00</td>\n",
       "      <td>0.00</td>\n",
       "      <td>0.00</td>\n",
       "      <td>11</td>\n",
       "    </tr>\n",
       "    <tr>\n",
       "      <th>1</th>\n",
       "      <td>446181</td>\n",
       "      <td>0.00</td>\n",
       "      <td>train</td>\n",
       "      <td>11.41</td>\n",
       "      <td>12.87</td>\n",
       "      <td>10.35</td>\n",
       "      <td>0.02</td>\n",
       "      <td>-13,217.00</td>\n",
       "      <td>-1,172.00</td>\n",
       "      <td>65.53</td>\n",
       "      <td>...</td>\n",
       "      <td>2.35</td>\n",
       "      <td>0.00</td>\n",
       "      <td>0.00</td>\n",
       "      <td>0.00</td>\n",
       "      <td>0.00</td>\n",
       "      <td>0.00</td>\n",
       "      <td>0.00</td>\n",
       "      <td>0.00</td>\n",
       "      <td>0.00</td>\n",
       "      <td>11</td>\n",
       "    </tr>\n",
       "    <tr>\n",
       "      <th>2</th>\n",
       "      <td>378637</td>\n",
       "      <td>0.00</td>\n",
       "      <td>train</td>\n",
       "      <td>11.63</td>\n",
       "      <td>12.97</td>\n",
       "      <td>10.44</td>\n",
       "      <td>0.03</td>\n",
       "      <td>-21,215.00</td>\n",
       "      <td>-808.00</td>\n",
       "      <td>180.97</td>\n",
       "      <td>...</td>\n",
       "      <td>0.00</td>\n",
       "      <td>0.00</td>\n",
       "      <td>0.00</td>\n",
       "      <td>0.00</td>\n",
       "      <td>0.00</td>\n",
       "      <td>0.00</td>\n",
       "      <td>0.00</td>\n",
       "      <td>0.00</td>\n",
       "      <td>0.00</td>\n",
       "      <td>12</td>\n",
       "    </tr>\n",
       "    <tr>\n",
       "      <th>3</th>\n",
       "      <td>402605</td>\n",
       "      <td>0.00</td>\n",
       "      <td>train</td>\n",
       "      <td>11.81</td>\n",
       "      <td>13.42</td>\n",
       "      <td>10.27</td>\n",
       "      <td>0.02</td>\n",
       "      <td>-22,186.00</td>\n",
       "      <td>0.00</td>\n",
       "      <td>210.15</td>\n",
       "      <td>...</td>\n",
       "      <td>0.00</td>\n",
       "      <td>0.00</td>\n",
       "      <td>0.00</td>\n",
       "      <td>0.00</td>\n",
       "      <td>0.00</td>\n",
       "      <td>0.00</td>\n",
       "      <td>0.00</td>\n",
       "      <td>0.00</td>\n",
       "      <td>0.00</td>\n",
       "      <td>12</td>\n",
       "    </tr>\n",
       "    <tr>\n",
       "      <th>4</th>\n",
       "      <td>156160</td>\n",
       "      <td>0.00</td>\n",
       "      <td>train</td>\n",
       "      <td>11.12</td>\n",
       "      <td>12.10</td>\n",
       "      <td>9.11</td>\n",
       "      <td>0.01</td>\n",
       "      <td>-9,434.00</td>\n",
       "      <td>-2,038.00</td>\n",
       "      <td>91.36</td>\n",
       "      <td>...</td>\n",
       "      <td>0.00</td>\n",
       "      <td>0.00</td>\n",
       "      <td>0.00</td>\n",
       "      <td>0.00</td>\n",
       "      <td>0.00</td>\n",
       "      <td>0.00</td>\n",
       "      <td>0.00</td>\n",
       "      <td>0.00</td>\n",
       "      <td>0.00</td>\n",
       "      <td>11</td>\n",
       "    </tr>\n",
       "  </tbody>\n",
       "</table>\n",
       "<p>5 rows × 237 columns</p>\n",
       "</div>"
      ],
      "text/plain": [
       "   SK_ID_CURR  TARGET DATASET  AMT_INCOME_TOTAL  AMT_CREDIT  AMT_ANNUITY  \\\n",
       "0      121145    0.00   train             11.36       12.57         9.79   \n",
       "1      446181    0.00   train             11.41       12.87        10.35   \n",
       "2      378637    0.00   train             11.63       12.97        10.44   \n",
       "3      402605    0.00   train             11.81       13.42        10.27   \n",
       "4      156160    0.00   train             11.12       12.10         9.11   \n",
       "\n",
       "   REGION_POPULATION_RELATIVE  DAYS_BIRTH  DAYS_EMPLOYED  DAYS_REGISTRATION  \\\n",
       "0                        0.01  -22,859.00           0.00             217.28   \n",
       "1                        0.02  -13,217.00      -1,172.00              65.53   \n",
       "2                        0.03  -21,215.00        -808.00             180.97   \n",
       "3                        0.02  -22,186.00           0.00             210.15   \n",
       "4                        0.01   -9,434.00      -2,038.00              91.36   \n",
       "\n",
       "   ...  CC_CNT_INSTALMENT_MATURE_CUM_STD  CC_SK_DPD_MIN  CC_SK_DPD_MAX  \\\n",
       "0  ...                              0.00           0.00           0.00   \n",
       "1  ...                              2.35           0.00           0.00   \n",
       "2  ...                              0.00           0.00           0.00   \n",
       "3  ...                              0.00           0.00           0.00   \n",
       "4  ...                              0.00           0.00           0.00   \n",
       "\n",
       "   CC_SK_DPD_MEAN  CC_SK_DPD_STD  CC_SK_DPD_DEF_MIN  CC_SK_DPD_DEF_MAX  \\\n",
       "0            0.00           0.00               0.00               0.00   \n",
       "1            0.00           0.00               0.00               0.00   \n",
       "2            0.00           0.00               0.00               0.00   \n",
       "3            0.00           0.00               0.00               0.00   \n",
       "4            0.00           0.00               0.00               0.00   \n",
       "\n",
       "   CC_SK_DPD_DEF_MEAN  CC_SK_DPD_DEF_STD  AMT_INCOME_TOTAL_GROUP  \n",
       "0                0.00               0.00                      11  \n",
       "1                0.00               0.00                      11  \n",
       "2                0.00               0.00                      12  \n",
       "3                0.00               0.00                      12  \n",
       "4                0.00               0.00                      11  \n",
       "\n",
       "[5 rows x 237 columns]"
      ]
     },
     "execution_count": 29,
     "metadata": {},
     "output_type": "execute_result"
    }
   ],
   "source": [
    " stratified_df.head()"
   ]
  },
  {
   "cell_type": "code",
   "execution_count": 30,
   "metadata": {},
   "outputs": [],
   "source": [
    "#let combined the stratified training and testing to then pass to the normalizing object\n",
    "new_dataset = stratified_df.append(test_df, ignore_index=True).reset_index(drop=True)"
   ]
  },
  {
   "cell_type": "code",
   "execution_count": 31,
   "metadata": {},
   "outputs": [
    {
     "name": "stdout",
     "output_type": "stream",
     "text": [
      ">> Normalized float features.\n",
      ">> Column count before one hot encoding: 236.\n",
      ">> One-hot-encoded integer features.\n",
      ">> One-hot-encoded string features.\n",
      ">> Column count after one hot encoding: 284.\n",
      ">> Total columns added: 48.\n"
     ]
    }
   ],
   "source": [
    "norm_data = utils.NormData(new_dataset.drop([strat_column],axis=1),StandardScaler())"
   ]
  },
  {
   "cell_type": "code",
   "execution_count": 32,
   "metadata": {},
   "outputs": [
    {
     "name": "stdout",
     "output_type": "stream",
     "text": [
      "Normalized stratified training dataset saved with row count of 48765 and column count of 283.\n"
     ]
    }
   ],
   "source": [
    "#get train dataframe already filtered\n",
    "train_df_norm  = norm_data.data_train_clean\n",
    "\n",
    "#save train dataset to file\n",
    "train_df_norm.to_csv('data_stratified/train_norm.csv',index=False)\n",
    "\n",
    "msg = \"Normalized stratified training dataset saved with row count of {} and column count of {}.\"\n",
    "print(msg.format(len(train_df_norm),len(train_df_norm.columns)))"
   ]
  },
  {
   "cell_type": "code",
   "execution_count": 33,
   "metadata": {},
   "outputs": [
    {
     "name": "stdout",
     "output_type": "stream",
     "text": [
      "Normalized test dataset saved with row count of 48744 and column count of 282.\n"
     ]
    }
   ],
   "source": [
    "#get test dataframe already filtered\n",
    "test_df_norm  = norm_data.data_test_clean\n",
    "\n",
    "#save test dataset to file\n",
    "test_df_norm.to_csv('data_stratified/test_norm.csv',index=False)\n",
    "\n",
    "msg = \"Normalized test dataset saved with row count of {} and column count of {}.\"\n",
    "print(msg.format(len(test_df_norm),len(test_df_norm.columns)))"
   ]
  }
 ],
 "metadata": {
  "kernelspec": {
   "display_name": "Python 3",
   "language": "python",
   "name": "python3"
  },
  "language_info": {
   "codemirror_mode": {
    "name": "ipython",
    "version": 3
   },
   "file_extension": ".py",
   "mimetype": "text/x-python",
   "name": "python",
   "nbconvert_exporter": "python",
   "pygments_lexer": "ipython3",
   "version": "3.6.8"
  }
 },
 "nbformat": 4,
 "nbformat_minor": 2
}
