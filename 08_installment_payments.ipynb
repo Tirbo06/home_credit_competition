{
 "cells": [
  {
   "cell_type": "markdown",
   "metadata": {},
   "source": [
    "## 8  Analysis Previous Installments Payments Dataset\n",
    "\n",
    "> In this notebook I analyze the `installment payments` dataset which is described below:\n",
    "\n",
    "> -  Repayment history for the previously disbursed credits in Home Credit related to the loans in the sample. \n",
    "\n",
    "#### Analysis Summary:\n",
    "> After analyzing the `installment payments` dataset I created a category feature called `PAYMENT_GRADE` and a historical on-time payment measure column called `TIMELY_PERCENT`.  The `PAYMENT_GRADE` column puts every installment client into a category based on their on-time historical payment percentage measure by their `TIMELY_PERCENT` column.  Below are the 5 categories for the `PAYMENT_GRADE`:\n",
    "\n",
    ">> - __Good__: 89% and above\n",
    ">> - __Par__: 83% to 89%\n",
    ">> - __Sub_Par__: 71% to 83%\n",
    ">> - __Poor__: 53% to 71%\n",
    ">> - __Very_Poor__: Less than 53%"
   ]
  },
  {
   "cell_type": "code",
   "execution_count": 1,
   "metadata": {},
   "outputs": [],
   "source": [
    "#import helper ultility module\n",
    "%load_ext autoreload\n",
    "%aimport utils\n",
    "%autoreload 1"
   ]
  },
  {
   "cell_type": "code",
   "execution_count": 2,
   "metadata": {},
   "outputs": [],
   "source": [
    "import pandas as pd\n",
    "pd.options.display.float_format = '{:,.2f}'.format\n",
    "pd.set_option('display.max_rows', 100)\n",
    "\n",
    "import numpy as np\n",
    "import matplotlib.pyplot as plt\n",
    "%matplotlib inline"
   ]
  },
  {
   "cell_type": "markdown",
   "metadata": {},
   "source": [
    "### 8.1 Import Datasets And Prepare ABT\n",
    "> - Import the train and test datasets combined using a utility helper \n",
    "> - Create Activity Base Table (ABT) to group the fields by type."
   ]
  },
  {
   "cell_type": "code",
   "execution_count": 3,
   "metadata": {},
   "outputs": [],
   "source": [
    "dataset = utils.get_installments_payments()"
   ]
  },
  {
   "cell_type": "code",
   "execution_count": 4,
   "metadata": {},
   "outputs": [
    {
     "data": {
      "text/html": [
       "<div>\n",
       "<style scoped>\n",
       "    .dataframe tbody tr th:only-of-type {\n",
       "        vertical-align: middle;\n",
       "    }\n",
       "\n",
       "    .dataframe tbody tr th {\n",
       "        vertical-align: top;\n",
       "    }\n",
       "\n",
       "    .dataframe thead th {\n",
       "        text-align: right;\n",
       "    }\n",
       "</style>\n",
       "<table border=\"1\" class=\"dataframe\">\n",
       "  <thead>\n",
       "    <tr style=\"text-align: right;\">\n",
       "      <th></th>\n",
       "      <th>SK_ID_PREV</th>\n",
       "      <th>SK_ID_CURR</th>\n",
       "      <th>NUM_INSTALMENT_VERSION</th>\n",
       "      <th>NUM_INSTALMENT_NUMBER</th>\n",
       "      <th>DAYS_INSTALMENT</th>\n",
       "      <th>DAYS_ENTRY_PAYMENT</th>\n",
       "      <th>AMT_INSTALMENT</th>\n",
       "      <th>AMT_PAYMENT</th>\n",
       "    </tr>\n",
       "  </thead>\n",
       "  <tbody>\n",
       "    <tr>\n",
       "      <th>0</th>\n",
       "      <td>1054186</td>\n",
       "      <td>161674</td>\n",
       "      <td>1.00</td>\n",
       "      <td>6.00</td>\n",
       "      <td>-1,180.00</td>\n",
       "      <td>-1,187.00</td>\n",
       "      <td>6,948.36</td>\n",
       "      <td>6,948.36</td>\n",
       "    </tr>\n",
       "    <tr>\n",
       "      <th>1</th>\n",
       "      <td>1330831</td>\n",
       "      <td>151639</td>\n",
       "      <td>0.00</td>\n",
       "      <td>34.00</td>\n",
       "      <td>-2,156.00</td>\n",
       "      <td>-2,156.00</td>\n",
       "      <td>1,716.53</td>\n",
       "      <td>1,716.53</td>\n",
       "    </tr>\n",
       "    <tr>\n",
       "      <th>2</th>\n",
       "      <td>2085231</td>\n",
       "      <td>193053</td>\n",
       "      <td>2.00</td>\n",
       "      <td>1.00</td>\n",
       "      <td>-63.00</td>\n",
       "      <td>-63.00</td>\n",
       "      <td>25,425.00</td>\n",
       "      <td>25,425.00</td>\n",
       "    </tr>\n",
       "    <tr>\n",
       "      <th>3</th>\n",
       "      <td>2452527</td>\n",
       "      <td>199697</td>\n",
       "      <td>1.00</td>\n",
       "      <td>3.00</td>\n",
       "      <td>-2,418.00</td>\n",
       "      <td>-2,426.00</td>\n",
       "      <td>24,350.13</td>\n",
       "      <td>24,350.13</td>\n",
       "    </tr>\n",
       "    <tr>\n",
       "      <th>4</th>\n",
       "      <td>2714724</td>\n",
       "      <td>167756</td>\n",
       "      <td>1.00</td>\n",
       "      <td>2.00</td>\n",
       "      <td>-1,383.00</td>\n",
       "      <td>-1,366.00</td>\n",
       "      <td>2,165.04</td>\n",
       "      <td>2,160.59</td>\n",
       "    </tr>\n",
       "  </tbody>\n",
       "</table>\n",
       "</div>"
      ],
      "text/plain": [
       "   SK_ID_PREV  SK_ID_CURR  NUM_INSTALMENT_VERSION  NUM_INSTALMENT_NUMBER  \\\n",
       "0     1054186      161674                    1.00                   6.00   \n",
       "1     1330831      151639                    0.00                  34.00   \n",
       "2     2085231      193053                    2.00                   1.00   \n",
       "3     2452527      199697                    1.00                   3.00   \n",
       "4     2714724      167756                    1.00                   2.00   \n",
       "\n",
       "   DAYS_INSTALMENT  DAYS_ENTRY_PAYMENT  AMT_INSTALMENT  AMT_PAYMENT  \n",
       "0        -1,180.00           -1,187.00        6,948.36     6,948.36  \n",
       "1        -2,156.00           -2,156.00        1,716.53     1,716.53  \n",
       "2           -63.00              -63.00       25,425.00    25,425.00  \n",
       "3        -2,418.00           -2,426.00       24,350.13    24,350.13  \n",
       "4        -1,383.00           -1,366.00        2,165.04     2,160.59  "
      ]
     },
     "execution_count": 4,
     "metadata": {},
     "output_type": "execute_result"
    }
   ],
   "source": [
    "dataset.head()"
   ]
  },
  {
   "cell_type": "code",
   "execution_count": 5,
   "metadata": {},
   "outputs": [
    {
     "data": {
      "text/plain": [
       "SK_ID_PREV                  int64\n",
       "SK_ID_CURR                  int64\n",
       "NUM_INSTALMENT_VERSION    float64\n",
       "NUM_INSTALMENT_NUMBER     float64\n",
       "DAYS_INSTALMENT           float64\n",
       "DAYS_ENTRY_PAYMENT        float64\n",
       "AMT_INSTALMENT            float64\n",
       "AMT_PAYMENT               float64\n",
       "dtype: object"
      ]
     },
     "execution_count": 5,
     "metadata": {},
     "output_type": "execute_result"
    }
   ],
   "source": [
    "dataset.dtypes"
   ]
  },
  {
   "cell_type": "code",
   "execution_count": 6,
   "metadata": {},
   "outputs": [],
   "source": [
    "abt = utils.ABT(dataset)"
   ]
  },
  {
   "cell_type": "code",
   "execution_count": 7,
   "metadata": {},
   "outputs": [
    {
     "name": "stdout",
     "output_type": "stream",
     "text": [
      "Total float64 types: 6\n"
     ]
    },
    {
     "data": {
      "text/html": [
       "<div>\n",
       "<style scoped>\n",
       "    .dataframe tbody tr th:only-of-type {\n",
       "        vertical-align: middle;\n",
       "    }\n",
       "\n",
       "    .dataframe tbody tr th {\n",
       "        vertical-align: top;\n",
       "    }\n",
       "\n",
       "    .dataframe thead th {\n",
       "        text-align: right;\n",
       "    }\n",
       "</style>\n",
       "<table border=\"1\" class=\"dataframe\">\n",
       "  <thead>\n",
       "    <tr style=\"text-align: right;\">\n",
       "      <th></th>\n",
       "      <th>num</th>\n",
       "      <th>count</th>\n",
       "      <th>na_count</th>\n",
       "      <th>na_%</th>\n",
       "      <th>mean</th>\n",
       "      <th>std</th>\n",
       "      <th>min</th>\n",
       "      <th>25%</th>\n",
       "      <th>50%</th>\n",
       "      <th>75%</th>\n",
       "      <th>max</th>\n",
       "    </tr>\n",
       "  </thead>\n",
       "  <tbody>\n",
       "    <tr>\n",
       "      <th>NUM_INSTALMENT_VERSION</th>\n",
       "      <td>1</td>\n",
       "      <td>13,605,401.00</td>\n",
       "      <td>0.00</td>\n",
       "      <td>0.00</td>\n",
       "      <td>0.86</td>\n",
       "      <td>1.04</td>\n",
       "      <td>0.00</td>\n",
       "      <td>0.00</td>\n",
       "      <td>1.00</td>\n",
       "      <td>1.00</td>\n",
       "      <td>178.00</td>\n",
       "    </tr>\n",
       "    <tr>\n",
       "      <th>NUM_INSTALMENT_NUMBER</th>\n",
       "      <td>2</td>\n",
       "      <td>13,605,401.00</td>\n",
       "      <td>0.00</td>\n",
       "      <td>0.00</td>\n",
       "      <td>18.87</td>\n",
       "      <td>26.66</td>\n",
       "      <td>1.00</td>\n",
       "      <td>4.00</td>\n",
       "      <td>8.00</td>\n",
       "      <td>19.00</td>\n",
       "      <td>277.00</td>\n",
       "    </tr>\n",
       "    <tr>\n",
       "      <th>DAYS_INSTALMENT</th>\n",
       "      <td>3</td>\n",
       "      <td>13,605,401.00</td>\n",
       "      <td>0.00</td>\n",
       "      <td>0.00</td>\n",
       "      <td>-1,042.27</td>\n",
       "      <td>800.95</td>\n",
       "      <td>-2,922.00</td>\n",
       "      <td>-1,654.00</td>\n",
       "      <td>-818.00</td>\n",
       "      <td>-361.00</td>\n",
       "      <td>-1.00</td>\n",
       "    </tr>\n",
       "    <tr>\n",
       "      <th>DAYS_ENTRY_PAYMENT</th>\n",
       "      <td>4</td>\n",
       "      <td>13,602,496.00</td>\n",
       "      <td>2,905.00</td>\n",
       "      <td>0.00</td>\n",
       "      <td>-1,051.11</td>\n",
       "      <td>800.59</td>\n",
       "      <td>-4,921.00</td>\n",
       "      <td>-1,662.00</td>\n",
       "      <td>-827.00</td>\n",
       "      <td>-370.00</td>\n",
       "      <td>-1.00</td>\n",
       "    </tr>\n",
       "    <tr>\n",
       "      <th>AMT_INSTALMENT</th>\n",
       "      <td>5</td>\n",
       "      <td>13,605,401.00</td>\n",
       "      <td>0.00</td>\n",
       "      <td>0.00</td>\n",
       "      <td>17,050.91</td>\n",
       "      <td>50,570.25</td>\n",
       "      <td>0.00</td>\n",
       "      <td>4,226.09</td>\n",
       "      <td>8,884.08</td>\n",
       "      <td>16,710.21</td>\n",
       "      <td>3,771,487.85</td>\n",
       "    </tr>\n",
       "    <tr>\n",
       "      <th>AMT_PAYMENT</th>\n",
       "      <td>6</td>\n",
       "      <td>13,602,496.00</td>\n",
       "      <td>2,905.00</td>\n",
       "      <td>0.00</td>\n",
       "      <td>17,238.22</td>\n",
       "      <td>54,735.78</td>\n",
       "      <td>0.00</td>\n",
       "      <td>3,398.26</td>\n",
       "      <td>8,125.52</td>\n",
       "      <td>16,108.42</td>\n",
       "      <td>3,771,487.85</td>\n",
       "    </tr>\n",
       "  </tbody>\n",
       "</table>\n",
       "</div>"
      ],
      "text/plain": [
       "                        num         count  na_count  na_%      mean       std  \\\n",
       "NUM_INSTALMENT_VERSION    1 13,605,401.00      0.00  0.00      0.86      1.04   \n",
       "NUM_INSTALMENT_NUMBER     2 13,605,401.00      0.00  0.00     18.87     26.66   \n",
       "DAYS_INSTALMENT           3 13,605,401.00      0.00  0.00 -1,042.27    800.95   \n",
       "DAYS_ENTRY_PAYMENT        4 13,602,496.00  2,905.00  0.00 -1,051.11    800.59   \n",
       "AMT_INSTALMENT            5 13,605,401.00      0.00  0.00 17,050.91 50,570.25   \n",
       "AMT_PAYMENT               6 13,602,496.00  2,905.00  0.00 17,238.22 54,735.78   \n",
       "\n",
       "                             min       25%      50%       75%          max  \n",
       "NUM_INSTALMENT_VERSION      0.00      0.00     1.00      1.00       178.00  \n",
       "NUM_INSTALMENT_NUMBER       1.00      4.00     8.00     19.00       277.00  \n",
       "DAYS_INSTALMENT        -2,922.00 -1,654.00  -818.00   -361.00        -1.00  \n",
       "DAYS_ENTRY_PAYMENT     -4,921.00 -1,662.00  -827.00   -370.00        -1.00  \n",
       "AMT_INSTALMENT              0.00  4,226.09 8,884.08 16,710.21 3,771,487.85  \n",
       "AMT_PAYMENT                 0.00  3,398.26 8,125.52 16,108.42 3,771,487.85  "
      ]
     },
     "execution_count": 7,
     "metadata": {},
     "output_type": "execute_result"
    }
   ],
   "source": [
    "float_table = abt.float_table\n",
    "print(\"Total float64 types: {}\".format(len(float_table)))\n",
    "float_table "
   ]
  },
  {
   "cell_type": "code",
   "execution_count": 8,
   "metadata": {},
   "outputs": [
    {
     "name": "stdout",
     "output_type": "stream",
     "text": [
      "1) ['NUM_INSTALMENT_VERSION']: Version of installment calendar (0 is for credit card) of previous credit. Change of installment version from month to month signifies that some parameter of payment calendar has changed\n",
      "----------------------------------------\n",
      "2) ['NUM_INSTALMENT_NUMBER']: On which installment we observe payment\n",
      "----------------------------------------\n",
      "3) ['DAYS_INSTALMENT']: When the installment of previous credit was supposed to be paid (relative to application date of current loan)\n",
      "----------------------------------------\n",
      "4) ['DAYS_ENTRY_PAYMENT']: When was the installments of previous credit paid actually (relative to application date of current loan)\n",
      "----------------------------------------\n",
      "5) ['AMT_INSTALMENT']: What was the prescribed installment amount of previous credit on this installment\n",
      "----------------------------------------\n",
      "6) ['AMT_PAYMENT']: What the client actually paid on previous credit on this installment\n",
      "----------------------------------------\n"
     ]
    }
   ],
   "source": [
    "# print description of each field in the integer ABT\n",
    "field_table = utils.FieldsNames()\n",
    "field_table.print('installments_payments.csv',float_table.index.values.tolist()) "
   ]
  },
  {
   "cell_type": "markdown",
   "metadata": {},
   "source": [
    "### 8.2 Add On Payment Grade Category\n",
    "> - Create a column called `PAYMENT_GRADE` to put every installment client into a category based on their on-time historical payment percentage."
   ]
  },
  {
   "cell_type": "code",
   "execution_count": 9,
   "metadata": {},
   "outputs": [],
   "source": [
    "#add flag to indicate installment received on time and the minimum payment was received\n",
    "def on_time(x):\n",
    "    timely = x['DAYS_INSTALMENT'] >= x['DAYS_ENTRY_PAYMENT']\n",
    "    min_met = x['AMT_PAYMENT'] >= x['AMT_INSTALMENT']\n",
    "    \n",
    "    if timely and min_met:\n",
    "        return 1\n",
    "    else:\n",
    "        return 0\n",
    "\n",
    "dataset['TIMELY_FLAG'] = dataset.apply(on_time,axis=1)"
   ]
  },
  {
   "cell_type": "code",
   "execution_count": 10,
   "metadata": {},
   "outputs": [
    {
     "data": {
      "text/html": [
       "<div>\n",
       "<style scoped>\n",
       "    .dataframe tbody tr th:only-of-type {\n",
       "        vertical-align: middle;\n",
       "    }\n",
       "\n",
       "    .dataframe tbody tr th {\n",
       "        vertical-align: top;\n",
       "    }\n",
       "\n",
       "    .dataframe thead th {\n",
       "        text-align: right;\n",
       "    }\n",
       "</style>\n",
       "<table border=\"1\" class=\"dataframe\">\n",
       "  <thead>\n",
       "    <tr style=\"text-align: right;\">\n",
       "      <th></th>\n",
       "      <th>SK_ID_PREV</th>\n",
       "      <th>SK_ID_CURR</th>\n",
       "      <th>NUM_INSTALMENT_VERSION</th>\n",
       "      <th>NUM_INSTALMENT_NUMBER</th>\n",
       "      <th>DAYS_INSTALMENT</th>\n",
       "      <th>DAYS_ENTRY_PAYMENT</th>\n",
       "      <th>AMT_INSTALMENT</th>\n",
       "      <th>AMT_PAYMENT</th>\n",
       "      <th>TIMELY_FLAG</th>\n",
       "    </tr>\n",
       "  </thead>\n",
       "  <tbody>\n",
       "    <tr>\n",
       "      <th>0</th>\n",
       "      <td>1054186</td>\n",
       "      <td>161674</td>\n",
       "      <td>1.00</td>\n",
       "      <td>6.00</td>\n",
       "      <td>-1,180.00</td>\n",
       "      <td>-1,187.00</td>\n",
       "      <td>6,948.36</td>\n",
       "      <td>6,948.36</td>\n",
       "      <td>1</td>\n",
       "    </tr>\n",
       "    <tr>\n",
       "      <th>1</th>\n",
       "      <td>1330831</td>\n",
       "      <td>151639</td>\n",
       "      <td>0.00</td>\n",
       "      <td>34.00</td>\n",
       "      <td>-2,156.00</td>\n",
       "      <td>-2,156.00</td>\n",
       "      <td>1,716.53</td>\n",
       "      <td>1,716.53</td>\n",
       "      <td>1</td>\n",
       "    </tr>\n",
       "    <tr>\n",
       "      <th>2</th>\n",
       "      <td>2085231</td>\n",
       "      <td>193053</td>\n",
       "      <td>2.00</td>\n",
       "      <td>1.00</td>\n",
       "      <td>-63.00</td>\n",
       "      <td>-63.00</td>\n",
       "      <td>25,425.00</td>\n",
       "      <td>25,425.00</td>\n",
       "      <td>1</td>\n",
       "    </tr>\n",
       "    <tr>\n",
       "      <th>3</th>\n",
       "      <td>2452527</td>\n",
       "      <td>199697</td>\n",
       "      <td>1.00</td>\n",
       "      <td>3.00</td>\n",
       "      <td>-2,418.00</td>\n",
       "      <td>-2,426.00</td>\n",
       "      <td>24,350.13</td>\n",
       "      <td>24,350.13</td>\n",
       "      <td>1</td>\n",
       "    </tr>\n",
       "    <tr>\n",
       "      <th>4</th>\n",
       "      <td>2714724</td>\n",
       "      <td>167756</td>\n",
       "      <td>1.00</td>\n",
       "      <td>2.00</td>\n",
       "      <td>-1,383.00</td>\n",
       "      <td>-1,366.00</td>\n",
       "      <td>2,165.04</td>\n",
       "      <td>2,160.59</td>\n",
       "      <td>0</td>\n",
       "    </tr>\n",
       "  </tbody>\n",
       "</table>\n",
       "</div>"
      ],
      "text/plain": [
       "   SK_ID_PREV  SK_ID_CURR  NUM_INSTALMENT_VERSION  NUM_INSTALMENT_NUMBER  \\\n",
       "0     1054186      161674                    1.00                   6.00   \n",
       "1     1330831      151639                    0.00                  34.00   \n",
       "2     2085231      193053                    2.00                   1.00   \n",
       "3     2452527      199697                    1.00                   3.00   \n",
       "4     2714724      167756                    1.00                   2.00   \n",
       "\n",
       "   DAYS_INSTALMENT  DAYS_ENTRY_PAYMENT  AMT_INSTALMENT  AMT_PAYMENT  \\\n",
       "0        -1,180.00           -1,187.00        6,948.36     6,948.36   \n",
       "1        -2,156.00           -2,156.00        1,716.53     1,716.53   \n",
       "2           -63.00              -63.00       25,425.00    25,425.00   \n",
       "3        -2,418.00           -2,426.00       24,350.13    24,350.13   \n",
       "4        -1,383.00           -1,366.00        2,165.04     2,160.59   \n",
       "\n",
       "   TIMELY_FLAG  \n",
       "0            1  \n",
       "1            1  \n",
       "2            1  \n",
       "3            1  \n",
       "4            0  "
      ]
     },
     "execution_count": 10,
     "metadata": {},
     "output_type": "execute_result"
    }
   ],
   "source": [
    "dataset.head()"
   ]
  },
  {
   "cell_type": "code",
   "execution_count": 11,
   "metadata": {},
   "outputs": [],
   "source": [
    "#lets count the number of timely payments\n",
    "dataset['TIMELY_SUM'] = dataset.groupby(['SK_ID_CURR'])['TIMELY_FLAG'].transform('sum')"
   ]
  },
  {
   "cell_type": "code",
   "execution_count": 12,
   "metadata": {},
   "outputs": [],
   "source": [
    "#lets count the number of total installment payments\n",
    "dataset['INSTALLMENT_COUNT'] = dataset.groupby(['SK_ID_CURR'])['TIMELY_FLAG'].transform('count')"
   ]
  },
  {
   "cell_type": "code",
   "execution_count": 13,
   "metadata": {},
   "outputs": [],
   "source": [
    "#flatten dataset to only one row per client\n",
    "features = ['TIMELY_SUM','INSTALLMENT_COUNT']\n",
    "dataset_final = dataset.groupby(['SK_ID_CURR'])[features].first().reset_index()"
   ]
  },
  {
   "cell_type": "code",
   "execution_count": 14,
   "metadata": {},
   "outputs": [
    {
     "data": {
      "text/plain": [
       "count   339,587.00\n",
       "mean          0.89\n",
       "std           0.18\n",
       "min           0.00\n",
       "25%           0.83\n",
       "50%           0.97\n",
       "75%           1.00\n",
       "max           1.00\n",
       "Name: TIMELY_PERCENT, dtype: float64"
      ]
     },
     "execution_count": 14,
     "metadata": {},
     "output_type": "execute_result"
    }
   ],
   "source": [
    "#calculate percent\n",
    "dataset_final['TIMELY_PERCENT'] = dataset_final['TIMELY_SUM'] / dataset_final['INSTALLMENT_COUNT']\n",
    "dataset_final['TIMELY_PERCENT'].describe()"
   ]
  },
  {
   "cell_type": "code",
   "execution_count": 15,
   "metadata": {},
   "outputs": [
    {
     "data": {
      "image/png": "[encoded data removed]",
      "text/plain": [
       "<Figure size 432x288 with 1 Axes>"
      ]
     },
     "metadata": {
      "needs_background": "light"
     },
     "output_type": "display_data"
    }
   ],
   "source": [
    "dataset_final['TIMELY_PERCENT'].plot.hist()\n",
    "plt.show()"
   ]
  },
  {
   "cell_type": "code",
   "execution_count": 16,
   "metadata": {},
   "outputs": [],
   "source": [
    "def payment_cat(x):\n",
    "    '''Put each id into a category based timely payments rate.'''\n",
    "    if x >= 0.89:\n",
    "        return 'Good'\n",
    "    elif x >= 0.83:\n",
    "        return 'Par'\n",
    "    elif x >= 0.71:\n",
    "        return 'Sub_Par'\n",
    "    elif x >= 0.53:\n",
    "        return 'Poor'\n",
    "    else:\n",
    "        return 'Very_Poor'\n",
    "\n",
    "dataset_final['INSTLL_PAY_PAYMENT_GRADE'] = dataset_final['TIMELY_PERCENT'].apply(payment_cat)"
   ]
  },
  {
   "cell_type": "code",
   "execution_count": 17,
   "metadata": {},
   "outputs": [
    {
     "data": {
      "text/html": [
       "<div>\n",
       "<style scoped>\n",
       "    .dataframe tbody tr th:only-of-type {\n",
       "        vertical-align: middle;\n",
       "    }\n",
       "\n",
       "    .dataframe tbody tr th {\n",
       "        vertical-align: top;\n",
       "    }\n",
       "\n",
       "    .dataframe thead th {\n",
       "        text-align: right;\n",
       "    }\n",
       "</style>\n",
       "<table border=\"1\" class=\"dataframe\">\n",
       "  <thead>\n",
       "    <tr style=\"text-align: right;\">\n",
       "      <th></th>\n",
       "      <th>SK_ID_CURR</th>\n",
       "      <th>TIMELY_SUM</th>\n",
       "      <th>INSTALLMENT_COUNT</th>\n",
       "      <th>TIMELY_PERCENT</th>\n",
       "      <th>INSTLL_PAY_PAYMENT_GRADE</th>\n",
       "    </tr>\n",
       "  </thead>\n",
       "  <tbody>\n",
       "    <tr>\n",
       "      <th>0</th>\n",
       "      <td>100001</td>\n",
       "      <td>6</td>\n",
       "      <td>7</td>\n",
       "      <td>0.86</td>\n",
       "      <td>Par</td>\n",
       "    </tr>\n",
       "    <tr>\n",
       "      <th>1</th>\n",
       "      <td>100002</td>\n",
       "      <td>19</td>\n",
       "      <td>19</td>\n",
       "      <td>1.00</td>\n",
       "      <td>Good</td>\n",
       "    </tr>\n",
       "    <tr>\n",
       "      <th>2</th>\n",
       "      <td>100003</td>\n",
       "      <td>25</td>\n",
       "      <td>25</td>\n",
       "      <td>1.00</td>\n",
       "      <td>Good</td>\n",
       "    </tr>\n",
       "    <tr>\n",
       "      <th>3</th>\n",
       "      <td>100004</td>\n",
       "      <td>3</td>\n",
       "      <td>3</td>\n",
       "      <td>1.00</td>\n",
       "      <td>Good</td>\n",
       "    </tr>\n",
       "    <tr>\n",
       "      <th>4</th>\n",
       "      <td>100005</td>\n",
       "      <td>8</td>\n",
       "      <td>9</td>\n",
       "      <td>0.89</td>\n",
       "      <td>Par</td>\n",
       "    </tr>\n",
       "  </tbody>\n",
       "</table>\n",
       "</div>"
      ],
      "text/plain": [
       "   SK_ID_CURR  TIMELY_SUM  INSTALLMENT_COUNT  TIMELY_PERCENT  \\\n",
       "0      100001           6                  7            0.86   \n",
       "1      100002          19                 19            1.00   \n",
       "2      100003          25                 25            1.00   \n",
       "3      100004           3                  3            1.00   \n",
       "4      100005           8                  9            0.89   \n",
       "\n",
       "  INSTLL_PAY_PAYMENT_GRADE  \n",
       "0                      Par  \n",
       "1                     Good  \n",
       "2                     Good  \n",
       "3                     Good  \n",
       "4                      Par  "
      ]
     },
     "execution_count": 17,
     "metadata": {},
     "output_type": "execute_result"
    }
   ],
   "source": [
    "dataset_final.head()"
   ]
  },
  {
   "cell_type": "code",
   "execution_count": 18,
   "metadata": {},
   "outputs": [
    {
     "data": {
      "text/html": [
       "<div>\n",
       "<style scoped>\n",
       "    .dataframe tbody tr th:only-of-type {\n",
       "        vertical-align: middle;\n",
       "    }\n",
       "\n",
       "    .dataframe tbody tr th {\n",
       "        vertical-align: top;\n",
       "    }\n",
       "\n",
       "    .dataframe thead th {\n",
       "        text-align: right;\n",
       "    }\n",
       "</style>\n",
       "<table border=\"1\" class=\"dataframe\">\n",
       "  <thead>\n",
       "    <tr style=\"text-align: right;\">\n",
       "      <th></th>\n",
       "      <th>count</th>\n",
       "      <th>mean</th>\n",
       "      <th>std</th>\n",
       "      <th>min</th>\n",
       "      <th>25%</th>\n",
       "      <th>50%</th>\n",
       "      <th>75%</th>\n",
       "      <th>max</th>\n",
       "    </tr>\n",
       "    <tr>\n",
       "      <th>INSTLL_PAY_PAYMENT_GRADE</th>\n",
       "      <th></th>\n",
       "      <th></th>\n",
       "      <th></th>\n",
       "      <th></th>\n",
       "      <th></th>\n",
       "      <th></th>\n",
       "      <th></th>\n",
       "      <th></th>\n",
       "    </tr>\n",
       "  </thead>\n",
       "  <tbody>\n",
       "    <tr>\n",
       "      <th>Good</th>\n",
       "      <td>227,941.00</td>\n",
       "      <td>0.98</td>\n",
       "      <td>0.03</td>\n",
       "      <td>0.89</td>\n",
       "      <td>0.97</td>\n",
       "      <td>1.00</td>\n",
       "      <td>1.00</td>\n",
       "      <td>1.00</td>\n",
       "    </tr>\n",
       "    <tr>\n",
       "      <th>Par</th>\n",
       "      <td>29,238.00</td>\n",
       "      <td>0.86</td>\n",
       "      <td>0.02</td>\n",
       "      <td>0.83</td>\n",
       "      <td>0.85</td>\n",
       "      <td>0.86</td>\n",
       "      <td>0.88</td>\n",
       "      <td>0.89</td>\n",
       "    </tr>\n",
       "    <tr>\n",
       "      <th>Poor</th>\n",
       "      <td>26,772.00</td>\n",
       "      <td>0.63</td>\n",
       "      <td>0.05</td>\n",
       "      <td>0.53</td>\n",
       "      <td>0.59</td>\n",
       "      <td>0.64</td>\n",
       "      <td>0.67</td>\n",
       "      <td>0.71</td>\n",
       "    </tr>\n",
       "    <tr>\n",
       "      <th>Sub_Par</th>\n",
       "      <td>35,243.00</td>\n",
       "      <td>0.77</td>\n",
       "      <td>0.04</td>\n",
       "      <td>0.71</td>\n",
       "      <td>0.74</td>\n",
       "      <td>0.78</td>\n",
       "      <td>0.80</td>\n",
       "      <td>0.83</td>\n",
       "    </tr>\n",
       "    <tr>\n",
       "      <th>Very_Poor</th>\n",
       "      <td>20,393.00</td>\n",
       "      <td>0.37</td>\n",
       "      <td>0.13</td>\n",
       "      <td>0.00</td>\n",
       "      <td>0.29</td>\n",
       "      <td>0.40</td>\n",
       "      <td>0.48</td>\n",
       "      <td>0.53</td>\n",
       "    </tr>\n",
       "  </tbody>\n",
       "</table>\n",
       "</div>"
      ],
      "text/plain": [
       "                              count  mean  std  min  25%  50%  75%  max\n",
       "INSTLL_PAY_PAYMENT_GRADE                                               \n",
       "Good                     227,941.00  0.98 0.03 0.89 0.97 1.00 1.00 1.00\n",
       "Par                       29,238.00  0.86 0.02 0.83 0.85 0.86 0.88 0.89\n",
       "Poor                      26,772.00  0.63 0.05 0.53 0.59 0.64 0.67 0.71\n",
       "Sub_Par                   35,243.00  0.77 0.04 0.71 0.74 0.78 0.80 0.83\n",
       "Very_Poor                 20,393.00  0.37 0.13 0.00 0.29 0.40 0.48 0.53"
      ]
     },
     "execution_count": 18,
     "metadata": {},
     "output_type": "execute_result"
    }
   ],
   "source": [
    "dataset_final.groupby(['INSTLL_PAY_PAYMENT_GRADE'])['TIMELY_PERCENT'].describe()"
   ]
  },
  {
   "cell_type": "code",
   "execution_count": 19,
   "metadata": {},
   "outputs": [
    {
     "data": {
      "image/png": "[encoded data removed]",
      "text/plain": [
       "<Figure size 1440x504 with 4 Axes>"
      ]
     },
     "metadata": {
      "needs_background": "light"
     },
     "output_type": "display_data"
    }
   ],
   "source": [
    "utils.plot_hbar(['INSTLL_PAY_PAYMENT_GRADE'],dataset_final)"
   ]
  },
  {
   "cell_type": "markdown",
   "metadata": {},
   "source": [
    "### 8.3 Save Final Dataset To File"
   ]
  },
  {
   "cell_type": "code",
   "execution_count": 23,
   "metadata": {},
   "outputs": [],
   "source": [
    "dataset_final[['SK_ID_CURR','TIMELY_PERCENT', 'INSTLL_PAY_PAYMENT_GRADE']].to_csv('data_pre_processed/1_8_installment_payments.csv',index=False)"
   ]
  }
 ],
 "metadata": {
  "kernelspec": {
   "display_name": "Python 3",
   "language": "python",
   "name": "python3"
  },
  "language_info": {
   "codemirror_mode": {
    "name": "ipython",
    "version": 3
   },
   "file_extension": ".py",
   "mimetype": "text/x-python",
   "name": "python",
   "nbconvert_exporter": "python",
   "pygments_lexer": "ipython3",
   "version": "3.6.8"
  }
 },
 "nbformat": 4,
 "nbformat_minor": 2
}
